{
 "cells": [
  {
   "cell_type": "markdown",
   "metadata": {},
   "source": [
    "## Lab 2- Tic Tac Toe\n",
    "\n",
    "In this lab your will build a n x n Tic Tac Toe game. As you do the exercises, make sure your solutions work for any size Tic Tac Toe game. "
   ]
  },
  {
   "cell_type": "markdown",
   "metadata": {},
   "source": [
    "*Exercise 1:* Write a function that creates an n by n matrix (of list of lists) which will represent the state of a Tie Tac Toe game. Let 0, 1, and 2 represent empty, \"X\", and \"O\", respectively.\n"
   ]
  },
  {
   "cell_type": "code",
   "execution_count": 1,
   "metadata": {},
   "outputs": [],
   "source": [
    "# Write you solution here\n",
    "player1=1        # player 'X'\n",
    "player2=2        # player 'O'\n",
    "empty=0\n",
    "\n",
    "def board(size):\n",
    "    board=list()\n",
    "    for i in range(size):\n",
    "        board.append([empty]*size)\n",
    "    return board"
   ]
  },
  {
   "cell_type": "code",
   "execution_count": 2,
   "metadata": {},
   "outputs": [
    {
     "data": {
      "text/plain": [
       "[[0, 0, 0], [0, 0, 0], [0, 0, 0]]"
      ]
     },
     "execution_count": 2,
     "metadata": {},
     "output_type": "execute_result"
    }
   ],
   "source": [
    "# Test your solution here\n",
    "board(3)"
   ]
  },
  {
   "cell_type": "markdown",
   "metadata": {},
   "source": [
    "*Exercise 2:* Write a function that takes 2 integers `n` and `m` as input and draws a `n` by `m` game board. For example the following is a 3x3 board:\n",
    "```\n",
    "   --- --- --- \n",
    "  |   |   |   | \n",
    "   --- --- ---  \n",
    "  |   |   |   | \n",
    "   --- --- ---  \n",
    "  |   |   |   | \n",
    "   --- --- --- \n",
    "   ```"
   ]
  },
  {
   "cell_type": "code",
   "execution_count": 3,
   "metadata": {},
   "outputs": [],
   "source": [
    "# Write you solution here\n",
    "def draw_board(size1,size2):\n",
    "  for m in range(size1):\n",
    "    print()\n",
    "    print(\" ---\"*size2)\n",
    "    for n in range(size2-1):\n",
    "      print(\"|\",\" \",end=\" \")\n",
    "    print(\"|\",\" \",\"|\",end=\" \")\n",
    "  print()\n",
    "  print(\" ---\"*size2)"
   ]
  },
  {
   "cell_type": "code",
   "execution_count": 4,
   "metadata": {},
   "outputs": [
    {
     "name": "stdout",
     "output_type": "stream",
     "text": [
      "\n",
      " --- --- --- ---\n",
      "|   |   |   |   | \n",
      " --- --- --- ---\n",
      "|   |   |   |   | \n",
      " --- --- --- ---\n",
      "|   |   |   |   | \n",
      " --- --- --- ---\n"
     ]
    }
   ],
   "source": [
    "# Test your solution here\n",
    "draw_board(3,4)"
   ]
  },
  {
   "cell_type": "markdown",
   "metadata": {},
   "source": [
    "*Exercise 3:* Modify exercise 2, so that it takes a matrix of the form from exercise 1 and draws a tic-tac-tie board with \"X\"s and \"O\"s.  "
   ]
  },
  {
   "cell_type": "code",
   "execution_count": 5,
   "metadata": {},
   "outputs": [],
   "source": [
    "# Write you solution here\n",
    "player_1_piece=\"X\"\n",
    "player_2_piece=\"O\"\n",
    "empty_space=\" \"\n",
    "\n",
    "space_character= {player1:player_1_piece,\n",
    "                  player2:player_2_piece,\n",
    "                  empty:empty_space }\n",
    "\n",
    "# Initializes board\n",
    "board=board(3)\n",
    "\n",
    "# Adding values to test if 'X' and 'O' are shown\n",
    "board[0][1]=1\n",
    "board[2][0]=2\n",
    "\n",
    "def draw_board(board,size1,size2):\n",
    "  for m in range(size1):\n",
    "    print()\n",
    "    print(\" ---\"*size2)\n",
    "    for n in range(size2-1):\n",
    "      print(\"|\",space_character[board[m][n]],end=\" \")\n",
    "    print(\"|\",space_character[board[m][size2-1]],\"|\",end=\" \")\n",
    "  print()\n",
    "  print(\" ---\"*size2)"
   ]
  },
  {
   "cell_type": "code",
   "execution_count": 6,
   "metadata": {},
   "outputs": [
    {
     "name": "stdout",
     "output_type": "stream",
     "text": [
      "\n",
      " --- --- ---\n",
      "|   | X |   | \n",
      " --- --- ---\n",
      "|   |   |   | \n",
      " --- --- ---\n",
      "| O |   |   | \n",
      " --- --- ---\n"
     ]
    }
   ],
   "source": [
    "# Test your solution here\n",
    "draw_board(board,3,3)"
   ]
  },
  {
   "cell_type": "markdown",
   "metadata": {},
   "source": [
    "*Exercise 4:* Write a function that takes a `n` by `n` matrix representing a tic-tac-toe game, and returns -1, 0, 1, or 2 indicating the game is incomplete, the game is a draw, player 1 has won, or player 2 has one, respectively. Here are some example inputs you can use to test your code:"
   ]
  },
  {
   "cell_type": "code",
   "execution_count": 22,
   "metadata": {},
   "outputs": [],
   "source": [
    "# Write you solution here\n",
    "def check_same(item,size):\n",
    "  if item==[1]*size:\n",
    "    return 1\n",
    "  elif item==[2]*size:\n",
    "    return 2\n",
    "  elif 0 in item:\n",
    "    return -1\n",
    "  else:\n",
    "    return 0\n",
    "\n",
    "def check_winner(board,size):\n",
    "  game='Undetermined'\n",
    "  winner='Undetermined'\n",
    "  for n in range(size):\n",
    "    row=board[n][:size]\n",
    "    if check_same(row,size)==1:\n",
    "      print(\"Player 1 Wins!\")\n",
    "      game='Finished'\n",
    "      winner='Determined'\n",
    "      return True\n",
    "      break\n",
    "    elif check_same(row,size)==2:\n",
    "      print(\"Player 2 Wins!\")\n",
    "      game='Finished'\n",
    "      winner='Determined'\n",
    "      return True\n",
    "      break\n",
    "    elif check_same(row,size)==-1:\n",
    "      game='In Progress'\n",
    "\n",
    "  for m in range(size):\n",
    "    column=[]\n",
    "    for n in range(size):\n",
    "      column.append(board[n][m])\n",
    "    if check_same(column,size)==1:\n",
    "      print(\"Player 1 Wins!\")\n",
    "      game='Finished'\n",
    "      winner='Determined'\n",
    "      return True\n",
    "      break\n",
    "    elif check_same(column,size)==2:\n",
    "      print(\"Player 2 Wins!\")\n",
    "      game='Finished'\n",
    "      winner='Determined'\n",
    "      return True\n",
    "      break\n",
    "    elif check_same(column,size)==-1:\n",
    "      game='In Progress'\n",
    "\n",
    "  diagonal1=[]\n",
    "  for n in range(size):\n",
    "    diagonal1.append(board[n][n])\n",
    "  if check_same(diagonal1,size)==1:\n",
    "    print(\"Player 1 Wins!\")\n",
    "    game='Finished'\n",
    "    winner='Determined'\n",
    "    return True\n",
    "  elif check_same(diagonal1,size)==2:\n",
    "    print(\"Player 2 Wins!\")\n",
    "    game='Finished'\n",
    "    winner='Determined'\n",
    "    return True\n",
    "  elif check_same(diagonal1,size)==-1:\n",
    "    game='In Progress'\n",
    "\n",
    "  diagonal2=[]\n",
    "  diff=1\n",
    "  for n in range(size):\n",
    "    diagonal2.append(board[n][size-diff])\n",
    "    diff +=1\n",
    "  if check_same(diagonal2,size)==1:\n",
    "    print(\"Player 1 Wins!\")\n",
    "    game='Finished'\n",
    "    winner='Determined'\n",
    "    return True\n",
    "  elif check_same(diagonal2,size)==2:\n",
    "    print(\"Player 2 Wins!\")\n",
    "    game='Finished'\n",
    "    winner='Determined'\n",
    "    return True\n",
    "  elif check_same(diagonal2,size)==-1:\n",
    "    game='In Progress'\n",
    "\n",
    "  if game=='In Progress' and winner=='Undetermined':\n",
    "    print(\"Game in progress..\")\n",
    "    return False\n",
    "  else:\n",
    "    print(\"It is a Draw.\")\n",
    "    return False"
   ]
  },
  {
   "cell_type": "code",
   "execution_count": 8,
   "metadata": {},
   "outputs": [
    {
     "data": {
      "text/plain": [
       "False"
      ]
     },
     "execution_count": 8,
     "metadata": {},
     "output_type": "execute_result"
    }
   ],
   "source": [
    "# Test your solution here\n",
    "check_winner(board,3)"
   ]
  },
  {
   "cell_type": "markdown",
   "metadata": {},
   "source": [
    "*Exercise 5:* Write a function that takes a game board, player number, and `(x,y)` coordinates and places \"X\" or \"O\" in the correct location of the game board. Make sure that you only allow filling previously empty locations. Return `True` or `False` to indicate successful placement of \"X\" or \"O\"."
   ]
  },
  {
   "cell_type": "code",
   "execution_count": 9,
   "metadata": {},
   "outputs": [],
   "source": [
    "# Write you solution here\n",
    "def place_symbol(board,player,x,y):\n",
    "  if board[x][y]==0:\n",
    "    board[x][y]=player\n",
    "    return True\n",
    "  else:\n",
    "    print(\"Invalid move. \\nLocation is already filled.\")\n",
    "    return False"
   ]
  },
  {
   "cell_type": "code",
   "execution_count": 10,
   "metadata": {},
   "outputs": [
    {
     "data": {
      "text/plain": [
       "True"
      ]
     },
     "execution_count": 10,
     "metadata": {},
     "output_type": "execute_result"
    }
   ],
   "source": [
    "# Test your solution here\n",
    "place_symbol(board,1,0,2)"
   ]
  },
  {
   "cell_type": "markdown",
   "metadata": {},
   "source": [
    "*Exercise 6:* Modify Exercise 3 to show column and row labels so that players can specify location using \"A2\" or \"C1\"."
   ]
  },
  {
   "cell_type": "code",
   "execution_count": 11,
   "metadata": {},
   "outputs": [],
   "source": [
    "# Write you solution here\n",
    "row_names=list(\"ABCDEFGHIJKLMNOPQRSTUVWXYZ\")\n",
    "row_map=dict(zip(row_names,range(26)))\n",
    "\n",
    "column_names=list(map(str,range(1,27)))\n",
    "column_map=dict(zip(column_names,range(26)))\n",
    "\n",
    "def draw_board(board,size):\n",
    "  print(\" \",end=\" \")\n",
    "  for i in range(size):\n",
    "    print(\" \",column_names[i],end=\" \")\n",
    "\n",
    "  for m in range(size):\n",
    "    print()\n",
    "    print(\" \",\" ---\"*size)\n",
    "    print(row_names[m],end=\" \")\n",
    "    print(\"|\",space_character[board[m][0]],\"|\",end=\" \")\n",
    "    for n in range(1,size):\n",
    "      print(space_character[board[m][n]],\"|\",end=\" \")\n",
    "  print()\n",
    "  print(\" \",\" ---\"*size)"
   ]
  },
  {
   "cell_type": "code",
   "execution_count": 12,
   "metadata": {},
   "outputs": [
    {
     "name": "stdout",
     "output_type": "stream",
     "text": [
      "    1   2   3 \n",
      "   --- --- ---\n",
      "A |   | X | X | \n",
      "   --- --- ---\n",
      "B |   |   |   | \n",
      "   --- --- ---\n",
      "C | O |   |   | \n",
      "   --- --- ---\n"
     ]
    }
   ],
   "source": [
    "# Test your solution here\n",
    "draw_board(board,3)"
   ]
  },
  {
   "cell_type": "markdown",
   "metadata": {},
   "source": [
    "*Exercise 7:* Write a function that takes a board, player number, and location specified as in exercise 6 and then calls exercise 5 to correctly modify the board.  "
   ]
  },
  {
   "cell_type": "code",
   "execution_count": 13,
   "metadata": {},
   "outputs": [],
   "source": [
    "# Write you solution here\n",
    "def make_move(board,player,in_put):\n",
    "  numbers=str(list(range(10)))\n",
    "  while True:\n",
    "    if not isinstance(in_put,str):\n",
    "      print(\"Input error. Input must be string.\")\n",
    "      print(\"Example: A1\")\n",
    "      return False\n",
    "      break\n",
    "\n",
    "    if not len(in_put)==2:\n",
    "      print(\"Input error. Input must be two characters.\")\n",
    "      print(\"Example: A1\")\n",
    "      break\n",
    "\n",
    "    if in_put[0] in numbers:\n",
    "      print(\"Input error. First character inputted must be letter.\")\n",
    "      print(\"Example: A1\")\n",
    "      return False\n",
    "      break\n",
    "\n",
    "    row=in_put[0].upper()\n",
    "    col=in_put[1].upper()\n",
    "\n",
    "    if not row in row_names:\n",
    "      print(\"Row not applicable.\")\n",
    "      return False\n",
    "      break\n",
    "\n",
    "    if not col in column_names:\n",
    "      print(\"Column not applicable.\")\n",
    "      return False\n",
    "      break\n",
    "\n",
    "    x=row_map[row]\n",
    "    y=column_map[col]\n",
    "    \n",
    "    return place_symbol(board,player,x,y)\n",
    "    break"
   ]
  },
  {
   "cell_type": "code",
   "execution_count": 14,
   "metadata": {},
   "outputs": [
    {
     "data": {
      "text/plain": [
       "True"
      ]
     },
     "execution_count": 14,
     "metadata": {},
     "output_type": "execute_result"
    }
   ],
   "source": [
    "# Test your solution here\n",
    "make_move(board,2,'B1')"
   ]
  },
  {
   "cell_type": "markdown",
   "metadata": {},
   "source": [
    "*Exercise 8:* Write a function is called with a board and player number, takes input from the player using python's `input`, and modifies the board using your function from exercise 7. Note that you should keep asking for input until you have gotten a valid input that results in a valid move."
   ]
  },
  {
   "cell_type": "code",
   "execution_count": 15,
   "metadata": {},
   "outputs": [],
   "source": [
    "# Write you solution here\n",
    "def ask_move(board,player):\n",
    "  while True:\n",
    "    move=input(\"Where will you place your symbol? \")\n",
    "    place=make_move(board,player,move)\n",
    "    if place==False:\n",
    "      continue\n",
    "    else:\n",
    "        break"
   ]
  },
  {
   "cell_type": "code",
   "execution_count": 16,
   "metadata": {},
   "outputs": [
    {
     "name": "stdout",
     "output_type": "stream",
     "text": [
      "Where will you place your symbol? A1\n"
     ]
    }
   ],
   "source": [
    "# Test your solution here\n",
    "ask_move(board,1)"
   ]
  },
  {
   "cell_type": "markdown",
   "metadata": {},
   "source": [
    "*Exercise 9:* Use all of the previous exercises to implement a full tic-tac-toe game, where an appropriate board is drawn, 2 players are repeatedly asked for a location coordinates of where they wish to place a mark, and the game status is checked until a player wins or a draw occurs."
   ]
  },
  {
   "cell_type": "code",
   "execution_count": 20,
   "metadata": {},
   "outputs": [],
   "source": [
    "# Write you solution here\n",
    "import random\n",
    "\n",
    "def play_tic_tac_toe(board_size):\n",
    "  player1=1\n",
    "  player2=2\n",
    "  empty=0\n",
    "  player_1_piece=\"X\"\n",
    "  player_2_piece=\"O\"\n",
    "  empty_space=\" \"\n",
    "\n",
    "  space_character= {player1:player_1_piece,\n",
    "                    player2:player_2_piece,\n",
    "                    empty:empty_space }\n",
    "  board_0=list()\n",
    "  for i in range(board_size):\n",
    "    board_0.append([empty]*board_size)\n",
    "\n",
    "  choice=random.choice([1,2])\n",
    "  if choice==1:\n",
    "    current_player=player1\n",
    "  elif choice==2:\n",
    "    current_player=player2\n",
    "\n",
    "  print(\"Let's start the game!\")\n",
    "  draw_board(board_0,board_size)\n",
    "\n",
    "  while True:\n",
    "    print(f\"Player {current_player}'s turn.\")\n",
    "    ask_move(board_0,current_player)\n",
    "    draw_board(board_0,board_size)\n",
    "    if check_winner(board_0,board_size)==True:\n",
    "      break\n",
    "\n",
    "    if current_player==player1:\n",
    "      current_player=player2\n",
    "    elif current_player==player2:\n",
    "      current_player=player1"
   ]
  },
  {
   "cell_type": "code",
   "execution_count": 21,
   "metadata": {},
   "outputs": [
    {
     "name": "stdout",
     "output_type": "stream",
     "text": [
      "Let's start the game!\n",
      "    1   2   3 \n",
      "   --- --- ---\n",
      "A |   |   |   | \n",
      "   --- --- ---\n",
      "B |   |   |   | \n",
      "   --- --- ---\n",
      "C |   |   |   | \n",
      "   --- --- ---\n",
      "Player 2's turn.\n",
      "Where will you place your symbol? A1\n",
      "    1   2   3 \n",
      "   --- --- ---\n",
      "A | O |   |   | \n",
      "   --- --- ---\n",
      "B |   |   |   | \n",
      "   --- --- ---\n",
      "C |   |   |   | \n",
      "   --- --- ---\n",
      "Player 1's turn.\n",
      "Where will you place your symbol? A2\n",
      "    1   2   3 \n",
      "   --- --- ---\n",
      "A | O | X |   | \n",
      "   --- --- ---\n",
      "B |   |   |   | \n",
      "   --- --- ---\n",
      "C |   |   |   | \n",
      "   --- --- ---\n",
      "Player 2's turn.\n",
      "Where will you place your symbol? A3\n",
      "    1   2   3 \n",
      "   --- --- ---\n",
      "A | O | X | O | \n",
      "   --- --- ---\n",
      "B |   |   |   | \n",
      "   --- --- ---\n",
      "C |   |   |   | \n",
      "   --- --- ---\n",
      "Player 1's turn.\n",
      "Where will you place your symbol? B1\n",
      "    1   2   3 \n",
      "   --- --- ---\n",
      "A | O | X | O | \n",
      "   --- --- ---\n",
      "B | X |   |   | \n",
      "   --- --- ---\n",
      "C |   |   |   | \n",
      "   --- --- ---\n",
      "Player 2's turn.\n",
      "Where will you place your symbol? B2\n",
      "    1   2   3 \n",
      "   --- --- ---\n",
      "A | O | X | O | \n",
      "   --- --- ---\n",
      "B | X | O |   | \n",
      "   --- --- ---\n",
      "C |   |   |   | \n",
      "   --- --- ---\n",
      "Player 1's turn.\n",
      "Where will you place your symbol? B3\n",
      "    1   2   3 \n",
      "   --- --- ---\n",
      "A | O | X | O | \n",
      "   --- --- ---\n",
      "B | X | O | X | \n",
      "   --- --- ---\n",
      "C |   |   |   | \n",
      "   --- --- ---\n",
      "Player 2's turn.\n",
      "Where will you place your symbol? C1\n",
      "    1   2   3 \n",
      "   --- --- ---\n",
      "A | O | X | O | \n",
      "   --- --- ---\n",
      "B | X | O | X | \n",
      "   --- --- ---\n",
      "C | O |   |   | \n",
      "   --- --- ---\n",
      "Player 2 Wins!\n"
     ]
    }
   ],
   "source": [
    "# Test your solution here\n",
    "play_tic_tac_toe(3)"
   ]
  },
  {
   "cell_type": "markdown",
   "metadata": {},
   "source": [
    "*Exercise 10:* Test that your game works for 5x5 Tic Tac Toe.  "
   ]
  },
  {
   "cell_type": "code",
   "execution_count": 23,
   "metadata": {},
   "outputs": [
    {
     "name": "stdout",
     "output_type": "stream",
     "text": [
      "Let's start the game!\n",
      "    1   2   3   4   5 \n",
      "   --- --- --- --- ---\n",
      "A |   |   |   |   |   | \n",
      "   --- --- --- --- ---\n",
      "B |   |   |   |   |   | \n",
      "   --- --- --- --- ---\n",
      "C |   |   |   |   |   | \n",
      "   --- --- --- --- ---\n",
      "D |   |   |   |   |   | \n",
      "   --- --- --- --- ---\n",
      "E |   |   |   |   |   | \n",
      "   --- --- --- --- ---\n",
      "Player 2's turn.\n",
      "Where will you place your symbol? A1\n",
      "    1   2   3   4   5 \n",
      "   --- --- --- --- ---\n",
      "A | O |   |   |   |   | \n",
      "   --- --- --- --- ---\n",
      "B |   |   |   |   |   | \n",
      "   --- --- --- --- ---\n",
      "C |   |   |   |   |   | \n",
      "   --- --- --- --- ---\n",
      "D |   |   |   |   |   | \n",
      "   --- --- --- --- ---\n",
      "E |   |   |   |   |   | \n",
      "   --- --- --- --- ---\n",
      "Game in progress..\n",
      "Player 1's turn.\n",
      "Where will you place your symbol? A1\n",
      "Invalid move. \n",
      "Location is already filled.\n",
      "Where will you place your symbol? A2\n",
      "    1   2   3   4   5 \n",
      "   --- --- --- --- ---\n",
      "A | O | X |   |   |   | \n",
      "   --- --- --- --- ---\n",
      "B |   |   |   |   |   | \n",
      "   --- --- --- --- ---\n",
      "C |   |   |   |   |   | \n",
      "   --- --- --- --- ---\n",
      "D |   |   |   |   |   | \n",
      "   --- --- --- --- ---\n",
      "E |   |   |   |   |   | \n",
      "   --- --- --- --- ---\n",
      "Game in progress..\n",
      "Player 2's turn.\n",
      "Where will you place your symbol? B2\n",
      "    1   2   3   4   5 \n",
      "   --- --- --- --- ---\n",
      "A | O | X |   |   |   | \n",
      "   --- --- --- --- ---\n",
      "B |   | O |   |   |   | \n",
      "   --- --- --- --- ---\n",
      "C |   |   |   |   |   | \n",
      "   --- --- --- --- ---\n",
      "D |   |   |   |   |   | \n",
      "   --- --- --- --- ---\n",
      "E |   |   |   |   |   | \n",
      "   --- --- --- --- ---\n",
      "Game in progress..\n",
      "Player 1's turn.\n",
      "Where will you place your symbol? A5\n",
      "    1   2   3   4   5 \n",
      "   --- --- --- --- ---\n",
      "A | O | X |   |   | X | \n",
      "   --- --- --- --- ---\n",
      "B |   | O |   |   |   | \n",
      "   --- --- --- --- ---\n",
      "C |   |   |   |   |   | \n",
      "   --- --- --- --- ---\n",
      "D |   |   |   |   |   | \n",
      "   --- --- --- --- ---\n",
      "E |   |   |   |   |   | \n",
      "   --- --- --- --- ---\n",
      "Game in progress..\n",
      "Player 2's turn.\n",
      "Where will you place your symbol? B4\n",
      "    1   2   3   4   5 \n",
      "   --- --- --- --- ---\n",
      "A | O | X |   |   | X | \n",
      "   --- --- --- --- ---\n",
      "B |   | O |   | O |   | \n",
      "   --- --- --- --- ---\n",
      "C |   |   |   |   |   | \n",
      "   --- --- --- --- ---\n",
      "D |   |   |   |   |   | \n",
      "   --- --- --- --- ---\n",
      "E |   |   |   |   |   | \n",
      "   --- --- --- --- ---\n",
      "Game in progress..\n",
      "Player 1's turn.\n",
      "Where will you place your symbol? B5\n",
      "    1   2   3   4   5 \n",
      "   --- --- --- --- ---\n",
      "A | O | X |   |   | X | \n",
      "   --- --- --- --- ---\n",
      "B |   | O |   | O | X | \n",
      "   --- --- --- --- ---\n",
      "C |   |   |   |   |   | \n",
      "   --- --- --- --- ---\n",
      "D |   |   |   |   |   | \n",
      "   --- --- --- --- ---\n",
      "E |   |   |   |   |   | \n",
      "   --- --- --- --- ---\n",
      "Game in progress..\n",
      "Player 2's turn.\n",
      "Where will you place your symbol? C2\n",
      "    1   2   3   4   5 \n",
      "   --- --- --- --- ---\n",
      "A | O | X |   |   | X | \n",
      "   --- --- --- --- ---\n",
      "B |   | O |   | O | X | \n",
      "   --- --- --- --- ---\n",
      "C |   | O |   |   |   | \n",
      "   --- --- --- --- ---\n",
      "D |   |   |   |   |   | \n",
      "   --- --- --- --- ---\n",
      "E |   |   |   |   |   | \n",
      "   --- --- --- --- ---\n",
      "Game in progress..\n",
      "Player 1's turn.\n",
      "Where will you place your symbol? C5\n",
      "    1   2   3   4   5 \n",
      "   --- --- --- --- ---\n",
      "A | O | X |   |   | X | \n",
      "   --- --- --- --- ---\n",
      "B |   | O |   | O | X | \n",
      "   --- --- --- --- ---\n",
      "C |   | O |   |   | X | \n",
      "   --- --- --- --- ---\n",
      "D |   |   |   |   |   | \n",
      "   --- --- --- --- ---\n",
      "E |   |   |   |   |   | \n",
      "   --- --- --- --- ---\n",
      "Game in progress..\n",
      "Player 2's turn.\n",
      "Where will you place your symbol? D2\n",
      "    1   2   3   4   5 \n",
      "   --- --- --- --- ---\n",
      "A | O | X |   |   | X | \n",
      "   --- --- --- --- ---\n",
      "B |   | O |   | O | X | \n",
      "   --- --- --- --- ---\n",
      "C |   | O |   |   | X | \n",
      "   --- --- --- --- ---\n",
      "D |   | O |   |   |   | \n",
      "   --- --- --- --- ---\n",
      "E |   |   |   |   |   | \n",
      "   --- --- --- --- ---\n",
      "Game in progress..\n",
      "Player 1's turn.\n",
      "Where will you place your symbol? D4\n",
      "    1   2   3   4   5 \n",
      "   --- --- --- --- ---\n",
      "A | O | X |   |   | X | \n",
      "   --- --- --- --- ---\n",
      "B |   | O |   | O | X | \n",
      "   --- --- --- --- ---\n",
      "C |   | O |   |   | X | \n",
      "   --- --- --- --- ---\n",
      "D |   | O |   | X |   | \n",
      "   --- --- --- --- ---\n",
      "E |   |   |   |   |   | \n",
      "   --- --- --- --- ---\n",
      "Game in progress..\n",
      "Player 2's turn.\n",
      "Where will you place your symbol? D5\n",
      "    1   2   3   4   5 \n",
      "   --- --- --- --- ---\n",
      "A | O | X |   |   | X | \n",
      "   --- --- --- --- ---\n",
      "B |   | O |   | O | X | \n",
      "   --- --- --- --- ---\n",
      "C |   | O |   |   | X | \n",
      "   --- --- --- --- ---\n",
      "D |   | O |   | X | O | \n",
      "   --- --- --- --- ---\n",
      "E |   |   |   |   |   | \n",
      "   --- --- --- --- ---\n",
      "Game in progress..\n",
      "Player 1's turn.\n",
      "Where will you place your symbol? E2\n",
      "    1   2   3   4   5 \n",
      "   --- --- --- --- ---\n",
      "A | O | X |   |   | X | \n",
      "   --- --- --- --- ---\n",
      "B |   | O |   | O | X | \n",
      "   --- --- --- --- ---\n",
      "C |   | O |   |   | X | \n",
      "   --- --- --- --- ---\n",
      "D |   | O |   | X | O | \n",
      "   --- --- --- --- ---\n",
      "E |   | X |   |   |   | \n",
      "   --- --- --- --- ---\n",
      "Game in progress..\n",
      "Player 2's turn.\n",
      "Where will you place your symbol? D1\n",
      "    1   2   3   4   5 \n",
      "   --- --- --- --- ---\n",
      "A | O | X |   |   | X | \n",
      "   --- --- --- --- ---\n",
      "B |   | O |   | O | X | \n",
      "   --- --- --- --- ---\n",
      "C |   | O |   |   | X | \n",
      "   --- --- --- --- ---\n",
      "D | O | O |   | X | O | \n",
      "   --- --- --- --- ---\n",
      "E |   | X |   |   |   | \n",
      "   --- --- --- --- ---\n",
      "Game in progress..\n",
      "Player 1's turn.\n",
      "Where will you place your symbol? E1\n",
      "    1   2   3   4   5 \n",
      "   --- --- --- --- ---\n",
      "A | O | X |   |   | X | \n",
      "   --- --- --- --- ---\n",
      "B |   | O |   | O | X | \n",
      "   --- --- --- --- ---\n",
      "C |   | O |   |   | X | \n",
      "   --- --- --- --- ---\n",
      "D | O | O |   | X | O | \n",
      "   --- --- --- --- ---\n",
      "E | X | X |   |   |   | \n",
      "   --- --- --- --- ---\n",
      "Game in progress..\n",
      "Player 2's turn.\n",
      "Where will you place your symbol? C3\n",
      "    1   2   3   4   5 \n",
      "   --- --- --- --- ---\n",
      "A | O | X |   |   | X | \n",
      "   --- --- --- --- ---\n",
      "B |   | O |   | O | X | \n",
      "   --- --- --- --- ---\n",
      "C |   | O | O |   | X | \n",
      "   --- --- --- --- ---\n",
      "D | O | O |   | X | O | \n",
      "   --- --- --- --- ---\n",
      "E | X | X |   |   |   | \n",
      "   --- --- --- --- ---\n",
      "Game in progress..\n",
      "Player 1's turn.\n",
      "Where will you place your symbol? E3\n",
      "    1   2   3   4   5 \n",
      "   --- --- --- --- ---\n",
      "A | O | X |   |   | X | \n",
      "   --- --- --- --- ---\n",
      "B |   | O |   | O | X | \n",
      "   --- --- --- --- ---\n",
      "C |   | O | O |   | X | \n",
      "   --- --- --- --- ---\n",
      "D | O | O |   | X | O | \n",
      "   --- --- --- --- ---\n",
      "E | X | X | X |   |   | \n",
      "   --- --- --- --- ---\n",
      "Game in progress..\n",
      "Player 2's turn.\n",
      "Where will you place your symbol? A4\n",
      "    1   2   3   4   5 \n",
      "   --- --- --- --- ---\n",
      "A | O | X |   | O | X | \n",
      "   --- --- --- --- ---\n",
      "B |   | O |   | O | X | \n",
      "   --- --- --- --- ---\n",
      "C |   | O | O |   | X | \n",
      "   --- --- --- --- ---\n",
      "D | O | O |   | X | O | \n",
      "   --- --- --- --- ---\n",
      "E | X | X | X |   |   | \n",
      "   --- --- --- --- ---\n",
      "Game in progress..\n",
      "Player 1's turn.\n",
      "Where will you place your symbol? E4\n",
      "    1   2   3   4   5 \n",
      "   --- --- --- --- ---\n",
      "A | O | X |   | O | X | \n",
      "   --- --- --- --- ---\n",
      "B |   | O |   | O | X | \n",
      "   --- --- --- --- ---\n",
      "C |   | O | O |   | X | \n",
      "   --- --- --- --- ---\n",
      "D | O | O |   | X | O | \n",
      "   --- --- --- --- ---\n",
      "E | X | X | X | X |   | \n",
      "   --- --- --- --- ---\n",
      "Game in progress..\n",
      "Player 2's turn.\n",
      "Where will you place your symbol? C1\n",
      "    1   2   3   4   5 \n",
      "   --- --- --- --- ---\n",
      "A | O | X |   | O | X | \n",
      "   --- --- --- --- ---\n",
      "B |   | O |   | O | X | \n",
      "   --- --- --- --- ---\n",
      "C | O | O | O |   | X | \n",
      "   --- --- --- --- ---\n",
      "D | O | O |   | X | O | \n",
      "   --- --- --- --- ---\n",
      "E | X | X | X | X |   | \n",
      "   --- --- --- --- ---\n",
      "Game in progress..\n",
      "Player 1's turn.\n",
      "Where will you place your symbol? E5\n",
      "    1   2   3   4   5 \n",
      "   --- --- --- --- ---\n",
      "A | O | X |   | O | X | \n",
      "   --- --- --- --- ---\n",
      "B |   | O |   | O | X | \n",
      "   --- --- --- --- ---\n",
      "C | O | O | O |   | X | \n",
      "   --- --- --- --- ---\n",
      "D | O | O |   | X | O | \n",
      "   --- --- --- --- ---\n",
      "E | X | X | X | X | X | \n",
      "   --- --- --- --- ---\n",
      "Player 1 Wins!\n"
     ]
    }
   ],
   "source": [
    "# Test your solution here\n",
    "play_tic_tac_toe(5)"
   ]
  },
  {
   "cell_type": "markdown",
   "metadata": {},
   "source": [
    "*Exercise 11:* (Advanced / Challenge) Develop a version of the game where one player is the computer. Note that you don't need to do an extensive seach for the best move. You can have the computer simply protect against loosing and otherwise try to win with straight or diagonal patterns."
   ]
  },
  {
   "cell_type": "code",
   "execution_count": null,
   "metadata": {},
   "outputs": [],
   "source": [
    "# Write you solution here"
   ]
  },
  {
   "cell_type": "code",
   "execution_count": null,
   "metadata": {},
   "outputs": [],
   "source": [
    "# Test your solution here"
   ]
  }
 ],
 "metadata": {
  "kernelspec": {
   "display_name": "Python 3 (ipykernel)",
   "language": "python",
   "name": "python3"
  },
  "language_info": {
   "codemirror_mode": {
    "name": "ipython",
    "version": 3
   },
   "file_extension": ".py",
   "mimetype": "text/x-python",
   "name": "python",
   "nbconvert_exporter": "python",
   "pygments_lexer": "ipython3",
   "version": "3.12.3"
  }
 },
 "nbformat": 4,
 "nbformat_minor": 2
}
